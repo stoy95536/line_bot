{
 "cells": [
  {
   "cell_type": "markdown",
   "metadata": {},
   "source": [
    "一般模板"
   ]
  },
  {
   "cell_type": "code",
   "execution_count": null,
   "metadata": {},
   "outputs": [],
   "source": [
    "def sendButton(event):\n",
    "    try:\n",
    "        message = TemplateSendMessage(\n",
    "            alt_text = '按鈕樣板',\n",
    "            template = ButtonsTemplate(\n",
    "                thumbnail_image_url='https://i.imgur.com/pRdaAmS.jpg',\n",
    "                title='按鈕樣板範例',\n",
    "                text='請選擇：',\n",
    "                actions=[\n",
    "                    MessageTemplateAction(\n",
    "                        label='文字訊息',\n",
    "                        text='@購買披薩'\n",
    "                    ),\n",
    "                    URITemplateAction(\n",
    "                        label='連結網頁',\n",
    "                        uri='https://www.grazie.com.tw/menu#food=1&meal=1'\n",
    "                    ),\n",
    "                    PostbackTemplateAction(\n",
    "                        label='回傳訊息',\n",
    "                        data='action=buy'\n",
    "                    ),\n",
    "                ]\n",
    "            )\n",
    "        )\n",
    "        line_bot_api.reply_message(event.reply_token,message)\n",
    "    except:\n",
    "        line_bot_api.reply_message(event.reply_token,TextSendMessage(text='發生錯誤!'))     \n"
   ]
  },
  {
   "cell_type": "markdown",
   "metadata": {},
   "source": [
    "滾動式模板"
   ]
  },
  {
   "cell_type": "code",
   "execution_count": null,
   "metadata": {},
   "outputs": [],
   "source": [
    "def Sendbottom_template(event):\n",
    "\n",
    "    message = TemplateSendMessage(\n",
    "        alt_text='Carousel template',\n",
    "        template=CarouselTemplate(\n",
    "            columns=[\n",
    "                CarouselColumn(\n",
    "                    thumbnail_image_url='https://ithelp.ithome.com.tw/storage/image/fight.svg',\n",
    "                    title='Carousel template1',\n",
    "                    text='iThome鐵人2021-1',\n",
    "                    actions=[\n",
    "                        PostbackAction(\n",
    "                            label='postback1',\n",
    "                            display_text='postback text1',\n",
    "                            data='action=buy&itemid=1'\n",
    "                        ),\n",
    "                        MessageAction(\n",
    "                            label='message1',\n",
    "                            text='message text1'\n",
    "                        ),\n",
    "                        URIAction(\n",
    "                            label='uri1',\n",
    "                            uri='http://example.com/1'\n",
    "                        )\n",
    "                    ]\n",
    "                ),\n",
    "                CarouselColumn(\n",
    "                    thumbnail_image_url='https://ithelp.ithome.com.tw/404/bear404.jpg',\n",
    "                    title='Carousel template2',\n",
    "                    text='iThome鐵人2021-2',\n",
    "                    actions=[\n",
    "                        PostbackAction(\n",
    "                            label='postback2',\n",
    "                            display_text='postback text2',\n",
    "                            data='action=buy&itemid=2'\n",
    "                        ),\n",
    "                        MessageAction(\n",
    "                            label='message2',\n",
    "                            text='message text2'\n",
    "                        ),\n",
    "                        URIAction(\n",
    "                            label='uri2',\n",
    "                            uri='http://example.com/2'\n",
    "                        )\n",
    "                    ]\n",
    "                )\n",
    "            ]\n",
    "        )\n",
    "    )\n",
    "    line_bot_api.reply_message(event.reply_token,message)"
   ]
  }
 ],
 "metadata": {
  "language_info": {
   "name": "python"
  },
  "orig_nbformat": 4
 },
 "nbformat": 4,
 "nbformat_minor": 2
}
